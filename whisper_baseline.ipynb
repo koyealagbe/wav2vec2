{
  "nbformat": 4,
  "nbformat_minor": 0,
  "metadata": {
    "colab": {
      "provenance": []
    },
    "kernelspec": {
      "name": "python3",
      "display_name": "Python 3"
    },
    "language_info": {
      "name": "python"
    }
  },
  "cells": [
    {
      "cell_type": "code",
      "source": [
        "!pip install datasets"
      ],
      "metadata": {
        "colab": {
          "base_uri": "https://localhost:8080/"
        },
        "id": "PCcizUosg6nL",
        "outputId": "602e7ba5-4e2a-4975-e43f-a35a3c94fc68"
      },
      "execution_count": 2,
      "outputs": [
        {
          "output_type": "stream",
          "name": "stdout",
          "text": [
            "Collecting datasets\n",
            "  Downloading datasets-2.19.2-py3-none-any.whl (542 kB)\n",
            "\u001b[2K     \u001b[90m━━━━━━━━━━━━━━━━━━━━━━━━━━━━━━━━━━━━━━━━\u001b[0m \u001b[32m542.1/542.1 kB\u001b[0m \u001b[31m4.7 MB/s\u001b[0m eta \u001b[36m0:00:00\u001b[0m\n",
            "\u001b[?25hRequirement already satisfied: filelock in /usr/local/lib/python3.10/dist-packages (from datasets) (3.14.0)\n",
            "Requirement already satisfied: numpy>=1.17 in /usr/local/lib/python3.10/dist-packages (from datasets) (1.25.2)\n",
            "Requirement already satisfied: pyarrow>=12.0.0 in /usr/local/lib/python3.10/dist-packages (from datasets) (14.0.2)\n",
            "Requirement already satisfied: pyarrow-hotfix in /usr/local/lib/python3.10/dist-packages (from datasets) (0.6)\n",
            "Collecting dill<0.3.9,>=0.3.0 (from datasets)\n",
            "  Downloading dill-0.3.8-py3-none-any.whl (116 kB)\n",
            "\u001b[2K     \u001b[90m━━━━━━━━━━━━━━━━━━━━━━━━━━━━━━━━━━━━━━━━\u001b[0m \u001b[32m116.3/116.3 kB\u001b[0m \u001b[31m5.0 MB/s\u001b[0m eta \u001b[36m0:00:00\u001b[0m\n",
            "\u001b[?25hRequirement already satisfied: pandas in /usr/local/lib/python3.10/dist-packages (from datasets) (2.0.3)\n",
            "Collecting requests>=2.32.1 (from datasets)\n",
            "  Downloading requests-2.32.3-py3-none-any.whl (64 kB)\n",
            "\u001b[2K     \u001b[90m━━━━━━━━━━━━━━━━━━━━━━━━━━━━━━━━━━━━━━━━\u001b[0m \u001b[32m64.9/64.9 kB\u001b[0m \u001b[31m6.8 MB/s\u001b[0m eta \u001b[36m0:00:00\u001b[0m\n",
            "\u001b[?25hRequirement already satisfied: tqdm>=4.62.1 in /usr/local/lib/python3.10/dist-packages (from datasets) (4.66.4)\n",
            "Collecting xxhash (from datasets)\n",
            "  Downloading xxhash-3.4.1-cp310-cp310-manylinux_2_17_x86_64.manylinux2014_x86_64.whl (194 kB)\n",
            "\u001b[2K     \u001b[90m━━━━━━━━━━━━━━━━━━━━━━━━━━━━━━━━━━━━━━━━\u001b[0m \u001b[32m194.1/194.1 kB\u001b[0m \u001b[31m6.5 MB/s\u001b[0m eta \u001b[36m0:00:00\u001b[0m\n",
            "\u001b[?25hCollecting multiprocess (from datasets)\n",
            "  Downloading multiprocess-0.70.16-py310-none-any.whl (134 kB)\n",
            "\u001b[2K     \u001b[90m━━━━━━━━━━━━━━━━━━━━━━━━━━━━━━━━━━━━━━━━\u001b[0m \u001b[32m134.8/134.8 kB\u001b[0m \u001b[31m6.0 MB/s\u001b[0m eta \u001b[36m0:00:00\u001b[0m\n",
            "\u001b[?25hRequirement already satisfied: fsspec[http]<=2024.3.1,>=2023.1.0 in /usr/local/lib/python3.10/dist-packages (from datasets) (2023.6.0)\n",
            "Requirement already satisfied: aiohttp in /usr/local/lib/python3.10/dist-packages (from datasets) (3.9.5)\n",
            "Requirement already satisfied: huggingface-hub>=0.21.2 in /usr/local/lib/python3.10/dist-packages (from datasets) (0.23.2)\n",
            "Requirement already satisfied: packaging in /usr/local/lib/python3.10/dist-packages (from datasets) (24.0)\n",
            "Requirement already satisfied: pyyaml>=5.1 in /usr/local/lib/python3.10/dist-packages (from datasets) (6.0.1)\n",
            "Requirement already satisfied: aiosignal>=1.1.2 in /usr/local/lib/python3.10/dist-packages (from aiohttp->datasets) (1.3.1)\n",
            "Requirement already satisfied: attrs>=17.3.0 in /usr/local/lib/python3.10/dist-packages (from aiohttp->datasets) (23.2.0)\n",
            "Requirement already satisfied: frozenlist>=1.1.1 in /usr/local/lib/python3.10/dist-packages (from aiohttp->datasets) (1.4.1)\n",
            "Requirement already satisfied: multidict<7.0,>=4.5 in /usr/local/lib/python3.10/dist-packages (from aiohttp->datasets) (6.0.5)\n",
            "Requirement already satisfied: yarl<2.0,>=1.0 in /usr/local/lib/python3.10/dist-packages (from aiohttp->datasets) (1.9.4)\n",
            "Requirement already satisfied: async-timeout<5.0,>=4.0 in /usr/local/lib/python3.10/dist-packages (from aiohttp->datasets) (4.0.3)\n",
            "Requirement already satisfied: typing-extensions>=3.7.4.3 in /usr/local/lib/python3.10/dist-packages (from huggingface-hub>=0.21.2->datasets) (4.12.0)\n",
            "Requirement already satisfied: charset-normalizer<4,>=2 in /usr/local/lib/python3.10/dist-packages (from requests>=2.32.1->datasets) (3.3.2)\n",
            "Requirement already satisfied: idna<4,>=2.5 in /usr/local/lib/python3.10/dist-packages (from requests>=2.32.1->datasets) (3.7)\n",
            "Requirement already satisfied: urllib3<3,>=1.21.1 in /usr/local/lib/python3.10/dist-packages (from requests>=2.32.1->datasets) (2.0.7)\n",
            "Requirement already satisfied: certifi>=2017.4.17 in /usr/local/lib/python3.10/dist-packages (from requests>=2.32.1->datasets) (2024.2.2)\n",
            "Requirement already satisfied: python-dateutil>=2.8.2 in /usr/local/lib/python3.10/dist-packages (from pandas->datasets) (2.8.2)\n",
            "Requirement already satisfied: pytz>=2020.1 in /usr/local/lib/python3.10/dist-packages (from pandas->datasets) (2023.4)\n",
            "Requirement already satisfied: tzdata>=2022.1 in /usr/local/lib/python3.10/dist-packages (from pandas->datasets) (2024.1)\n",
            "Requirement already satisfied: six>=1.5 in /usr/local/lib/python3.10/dist-packages (from python-dateutil>=2.8.2->pandas->datasets) (1.16.0)\n",
            "Installing collected packages: xxhash, requests, dill, multiprocess, datasets\n",
            "  Attempting uninstall: requests\n",
            "    Found existing installation: requests 2.31.0\n",
            "    Uninstalling requests-2.31.0:\n",
            "      Successfully uninstalled requests-2.31.0\n",
            "\u001b[31mERROR: pip's dependency resolver does not currently take into account all the packages that are installed. This behaviour is the source of the following dependency conflicts.\n",
            "google-colab 1.0.0 requires requests==2.31.0, but you have requests 2.32.3 which is incompatible.\u001b[0m\u001b[31m\n",
            "\u001b[0mSuccessfully installed datasets-2.19.2 dill-0.3.8 multiprocess-0.70.16 requests-2.32.3 xxhash-3.4.1\n"
          ]
        }
      ]
    },
    {
      "cell_type": "code",
      "source": [
        "from datasets import load_dataset, Audio, Dataset\n",
        "import pandas as pd\n",
        "import librosa\n",
        "import soundfile\n",
        "import random"
      ],
      "metadata": {
        "id": "hsJ0_3rLhBIS"
      },
      "execution_count": 40,
      "outputs": []
    },
    {
      "cell_type": "code",
      "execution_count": 36,
      "metadata": {
        "colab": {
          "base_uri": "https://localhost:8080/"
        },
        "id": "owNqXm0dgpdj",
        "outputId": "94313d74-c85f-48d2-df5b-cbbc1b5c9852"
      },
      "outputs": [
        {
          "output_type": "execute_result",
          "data": {
            "text/plain": [
              "Dataset({\n",
              "    features: ['audio', 'transcription'],\n",
              "    num_rows: 500\n",
              "})"
            ]
          },
          "metadata": {},
          "execution_count": 36
        }
      ],
      "source": [
        "dataset = load_dataset(\n",
        "    \"mayabedge/NNCES\", split=\"train\"\n",
        ")\n",
        "dataset"
      ]
    },
    {
      "cell_type": "code",
      "source": [
        "sample = dataset[2]\n",
        "print(sample)\n",
        "print(sample[\"transcription\"])"
      ],
      "metadata": {
        "colab": {
          "base_uri": "https://localhost:8080/"
        },
        "id": "MaT8zOM7g4oq",
        "outputId": "4b84cc59-631a-4726-f1b5-7816e994b38c"
      },
      "execution_count": 37,
      "outputs": [
        {
          "output_type": "stream",
          "name": "stdout",
          "text": [
            "{'audio': {'path': 'M1_01_03.wav', 'array': array([ 0.00167847,  0.0015564 ,  0.00140381, ..., -0.00192261,\n",
            "       -0.0027771 , -0.00332642]), 'sampling_rate': 44100}, 'transcription': 'Mom and Dad arrived at the bus station early but waited until the bus came.'}\n",
            "Mom and Dad arrived at the bus station early but waited until the bus came.\n"
          ]
        }
      ]
    },
    {
      "cell_type": "code",
      "source": [
        "import torch\n",
        "from transformers import pipeline\n",
        "\n",
        "device = \"cuda:0\" if torch.cuda.is_available() else \"cpu\"\n",
        "pipe = pipeline(\n",
        "    \"automatic-speech-recognition\", model=\"openai/whisper-tiny.en\", device=device\n",
        ")"
      ],
      "metadata": {
        "id": "xJqiiQx-igTc"
      },
      "execution_count": 38,
      "outputs": []
    },
    {
      "cell_type": "code",
      "source": [
        "preds = []\n",
        "evals = random.sample(range(0, 500), 100)\n",
        "for i in evals:\n",
        "  sample = dataset[i]\n",
        "  txt = pipe(sample[\"audio\"], max_new_tokens=256)\n",
        "  txt = txt['text']\n",
        "  preds.append(txt)\n",
        "print(preds)\n"
      ],
      "metadata": {
        "colab": {
          "base_uri": "https://localhost:8080/"
        },
        "id": "5g6w-fsKi1fi",
        "outputId": "2dfc1421-b035-4649-b733-a6fe4fabd9e4"
      },
      "execution_count": 41,
      "outputs": [
        {
          "output_type": "stream",
          "name": "stdout",
          "text": [
            "[' mother and dad arrived at the bus station early but waited until the bus came', \" I don't have time to play with you. I am playing quicken.\", ' Mom and Dad arrived at the bus station early but waited until the bus came.', ' The oldest member of the family is my grandfather and the youngest member of my family is my baby brother.', ' which is as caring as a mother. We talk with sweet like', ' Ancient views are through the best habits and dreams to eat.', ' I love my family and that in that future I want to make my family proud of.', ' Mom and Dad and I were at the bus station and he went way down until the bus came.', ' We should respect and know all members of the family.', \" I don't have time to whoa, it's you, I am playing cricket.\", ' The nature is very attractive and full of my favorite ginkalurt.', ' The nature is very attractive and full of my few favorite green colors.', \" I don't have time to go with you. I'm playing cricket.\", \" I don't have time to go with you. I'm playing.\", ' The students read the uniform and go to school daily.', ' You wish to know all about my grandfather. Well, he is nearly 93 years old with your long beard.', ' The nature is very attractive and full of my favorite dream colors.', ' In the winter, when it is snow, it is really big, a short walk in the open air.', ' Mom and Dad arrived at the bus station but waited until the bus came', ' Nature gives us fruits, vegetables and grains to eat.', ' Why see today he plays skillfully and with just a pioneer smart organ except in the winter when the snow art ice prevents his slowly takes a short work in the open year each day when we have a ten-hour journey to work more on a more close button but he always answers, but Nana Ailidhan father likes to be more than is his language.', \" Dothi, bones, my life, my life, my life, I'll serve on see a book and then place place bus get ball.\", \" Nature is as killing as our mother. It's always sweet like her.\", ' Allow my family and in the future I want to make my family proud', ' I love my family and end in the future I want to make my family proud', \" You wish to know all about my grandfather. When he's nearly 93 years old with a long beard.\", \" May it is caring as our mother. It's always sweet like me.\", \" I don't have time to go with you, I'm playing in care.\", ' I love my family and in the future I want to make my family proud.', ' Nature gives us fruits which they bulls our grains to eat.', ' I love my family and in the future I want to make my family proud.', \" The oldest member of the family is my grandfather and the English member of my family. He's my baby brother.\", ' May 10 give such rules vegetables and brands to eat.', ' $199, $9,000, $9,000, $9,000, $9,000, $9,000, $9,000, $9,000, $9,000, $9,000, $9,000, $9,000, $9,000, $9,000, $9,000, $8,000, $8,000, $8,000, $8,000, $8,000, $8,000, $8,000, $8,000, $8,000, $8,000, $8,000, $8,000, $8,000, $8,000, $8,000, $8,000, $8,000, $8,000, $8,000, $8,000, $8,000, $8,000, $8,000, $8,000, $8,000, $8,000, $8,000, $8,000, $8,000, $8,000, $8,000, $8,000, $8,000, $8,000, $8,000, $8,000, $8,', ' Nature gives us fruits, vegetables and grains to eat.', \" Nature is as-gadding as our mother. It's always with like a...\", ' The students read the uniform and goes to school daily.', \" You wish to know about all of my grandfather's values, 93 years old with the long beer.\", \" I don't have time to go with you. I am playing Kirtu.\", \" Dogs use bones like this as the one simple and I'm play basketball.\", \" I don't have time to go with you. I am playing cricket.\", ' Mental news of fruits, vegetables and grains to eat.', ' You wish to know all about my grandfather? Well he is nearly 93 years old and long beard.', ' It gives us food, vegetables and grain stew.', ' I love my family and in the future I want to make my family proud', ' The oldest number of the families is my grandfather and the youngest number of my family is my baby brother.', ' We wish to know all about my grandfather when he is me and in Andesri as world with your long we are.', ' 2013, 1918, 16, 2014, 13, 12, 11, 10, 9, 8, 7, 6, 5, 4, 3, 2, 1.', ' You wish to know all about my grandfather while he is nearly 93 years old with their long beard.', ' I love my family and in the future I want to make my family proud.', \" Boxing goals, my flight mites, and so on so forth, and I'm very spasquid-bud.\", ' In the winter when it snows, he always takes a short walk in the open air each day.', ' 2016-14 that being 12, 7, 10, 9, 8, 7, 6, 5, 4, 3, 2, 1.', ' In the winter when it snows, she, he slowly takes a short walk in the open air each day.', ' Dox eat bones, make like bites, Elsa wants a book, Adam plays Bostet Bose.', \" I don't have time to go with you. I am playing to the game.\", ' The student wears a uniform and goes to the basketball', \" The obvious rules might make like spikes as I want to book. I don't play as basketball.\", \" I don't have a time to go with you, I'm playing with you.\", ' The oldest member of the family is my grandfather and the youngest member of my family is my baby brother.', ' Pardis want my clikes bikes, elza bonza book, Adam Place basketball.', ' The nature is very attractive and full of my favorite dreams.', ' The old-ish member of my family is my grandfather and the English member of my family is my baby brother.', ' I love my family and the future. I want to make my family proud.', \" I don't have time to go with you. I'm playing cricket.\", ' The students were made the uniform under goal and goal to the school daily.', ' In the winter, when it snows, he slowly takes a short walk in the open age day.', ' I love my family and in that future I want to make my family proud.', ' The students were made by uniform and goes to school daily.', ' Doxie, bones, Michael, legs, bites.', \" I don't have time to go with you. I am playing cricket.\", \" The seats won't make legs by and so on several other place, kick basketball.\", ' I love my family and in the future I want to make my family proud.', ' The majority of scattering has our mother who is always with like her.', \" Nature gives us foods which tell us I'm great to eat.\", ' 15, 14, 13, 12, 11, 10, 9, 8, 7, 6, 5, 14, 21.', \" Better is caring as our mother, it's always sweet, sweet like her.\", ' 2019, 18, 17, 16, 15, 14, 13, 5, 11, 10, 9, 8, 7, 6, 5, 4, 3, 2, 1.', ' In the winter, when it snows, it slowly takes a short walk in the webinar each day.', ' In the winter when he snows, his slowly takes a short walk in the open air each day.', \" I don't have time to go with you and playing to get\", \" Nator-ezes, caring as our mother, it's always sweet like her.\", ' The nature is a very attractive and full of my favourite green colour.', ' 198, 1998, 1997, 96, 95, 94, 93, 92, 91, 90, 89, 88, 87, 86, 85, 84, 83, 82, 81, 82, 82, 82, 82, 82, 82, 82, 82, 82, 82, 82, 82, 82, 82, 82, 82, 82, 82, 82, 82, 82, 82, 82, 82, 82, 82, 82, 82, 82, 82, 82, 82, 82, 82, 82, 82, 82, 82, 82, 82, 82, 82, 82, 82, 82, 82, 82, 82, 82, 82, 82, 82, 82, 82, 82, 82, 82, 82, 82, 82, 82, 82, 82, 82, 82, 82, 82, 82, 82, 82, 82, 82, 82, 82, 82, 82, 82, 82, 82, 82, 82, 82, 82, 82, 82, 82, 82, 82, 82, 82, 82, 82, 82, 82, 82, 82, 82, 82, 82, 82, 82, 82, 82, 82, 82, 82, 82, 82, 82,', \" Nature is caring as our mother. It's like always sweet like her.\", \" I'm going to have to go to the hospital.\", \" Neter is just getting as our mother. It's always sweet like her.\", ' Doxy bones, my clikes, bikes, Elsa, Wansi, book, Adam, Place, basketball.', ' We should respect and love our members of the family.', ' should respect and now all members of the family.', ' Dog eats bone, my place bike, Iissa want a wooden other place market world.', ' I love my family and the future. I want to make my family proud of', \" You wish to know all about my grandfather, well he is nearly 93 years old, yet he still thinks yes swiftly as a year ever. He dresses himself in the old black rock, but usually several attempts missing a long He claims to his chin giving those who observe him a pronounced feeling of that at most. When he speaks his voice, he's just a bit cracker and quits a bit.\", \" Mechari is as a getting as our mother. It's always sweet like her.\", \" Nature is carrying us our mother. It's always sweet, sweet like her.\", \" Dogs eat bones, my clients, bikes, Elsa, what's a book, Adam, place basketball.\", ' Nature gives us fruits, vegetables and grains to eat.', ' Mom and Dad have read a devastation early but waited until the bus came.', \" Nator is asking us as our mother it's always with like her.\", \" The winter, when it's not, he slowly takes a short walk in the open yard each day.\"]\n"
          ]
        }
      ]
    },
    {
      "cell_type": "code",
      "source": [
        "refs = []\n",
        "for i in evals:\n",
        "  sample = dataset[i]\n",
        "  refs.append(sample[\"transcription\"])"
      ],
      "metadata": {
        "id": "bCDNFpyQmYme"
      },
      "execution_count": 43,
      "outputs": []
    },
    {
      "cell_type": "code",
      "source": [
        "!pip install jiwer\n",
        "!pip install evaluate"
      ],
      "metadata": {
        "colab": {
          "base_uri": "https://localhost:8080/"
        },
        "id": "fnqh0nGFlHGT",
        "outputId": "9e932863-fba2-420d-9463-2b4465790be4"
      },
      "execution_count": 32,
      "outputs": [
        {
          "output_type": "stream",
          "name": "stdout",
          "text": [
            "Collecting jiwer\n",
            "  Downloading jiwer-3.0.4-py3-none-any.whl (21 kB)\n",
            "Requirement already satisfied: click<9.0.0,>=8.1.3 in /usr/local/lib/python3.10/dist-packages (from jiwer) (8.1.7)\n",
            "Collecting rapidfuzz<4,>=3 (from jiwer)\n",
            "  Downloading rapidfuzz-3.9.3-cp310-cp310-manylinux_2_17_x86_64.manylinux2014_x86_64.whl (3.4 MB)\n",
            "\u001b[2K     \u001b[90m━━━━━━━━━━━━━━━━━━━━━━━━━━━━━━━━━━━━━━━━\u001b[0m \u001b[32m3.4/3.4 MB\u001b[0m \u001b[31m26.2 MB/s\u001b[0m eta \u001b[36m0:00:00\u001b[0m\n",
            "\u001b[?25hInstalling collected packages: rapidfuzz, jiwer\n",
            "Successfully installed jiwer-3.0.4 rapidfuzz-3.9.3\n",
            "Collecting evaluate\n",
            "  Downloading evaluate-0.4.2-py3-none-any.whl (84 kB)\n",
            "\u001b[2K     \u001b[90m━━━━━━━━━━━━━━━━━━━━━━━━━━━━━━━━━━━━━━━━\u001b[0m \u001b[32m84.1/84.1 kB\u001b[0m \u001b[31m2.1 MB/s\u001b[0m eta \u001b[36m0:00:00\u001b[0m\n",
            "\u001b[?25hRequirement already satisfied: datasets>=2.0.0 in /usr/local/lib/python3.10/dist-packages (from evaluate) (2.19.2)\n",
            "Requirement already satisfied: numpy>=1.17 in /usr/local/lib/python3.10/dist-packages (from evaluate) (1.25.2)\n",
            "Requirement already satisfied: dill in /usr/local/lib/python3.10/dist-packages (from evaluate) (0.3.8)\n",
            "Requirement already satisfied: pandas in /usr/local/lib/python3.10/dist-packages (from evaluate) (2.0.3)\n",
            "Requirement already satisfied: requests>=2.19.0 in /usr/local/lib/python3.10/dist-packages (from evaluate) (2.32.3)\n",
            "Requirement already satisfied: tqdm>=4.62.1 in /usr/local/lib/python3.10/dist-packages (from evaluate) (4.66.4)\n",
            "Requirement already satisfied: xxhash in /usr/local/lib/python3.10/dist-packages (from evaluate) (3.4.1)\n",
            "Requirement already satisfied: multiprocess in /usr/local/lib/python3.10/dist-packages (from evaluate) (0.70.16)\n",
            "Requirement already satisfied: fsspec[http]>=2021.05.0 in /usr/local/lib/python3.10/dist-packages (from evaluate) (2023.6.0)\n",
            "Requirement already satisfied: huggingface-hub>=0.7.0 in /usr/local/lib/python3.10/dist-packages (from evaluate) (0.23.2)\n",
            "Requirement already satisfied: packaging in /usr/local/lib/python3.10/dist-packages (from evaluate) (24.0)\n",
            "Requirement already satisfied: filelock in /usr/local/lib/python3.10/dist-packages (from datasets>=2.0.0->evaluate) (3.14.0)\n",
            "Requirement already satisfied: pyarrow>=12.0.0 in /usr/local/lib/python3.10/dist-packages (from datasets>=2.0.0->evaluate) (14.0.2)\n",
            "Requirement already satisfied: pyarrow-hotfix in /usr/local/lib/python3.10/dist-packages (from datasets>=2.0.0->evaluate) (0.6)\n",
            "Requirement already satisfied: aiohttp in /usr/local/lib/python3.10/dist-packages (from datasets>=2.0.0->evaluate) (3.9.5)\n",
            "Requirement already satisfied: pyyaml>=5.1 in /usr/local/lib/python3.10/dist-packages (from datasets>=2.0.0->evaluate) (6.0.1)\n",
            "Requirement already satisfied: typing-extensions>=3.7.4.3 in /usr/local/lib/python3.10/dist-packages (from huggingface-hub>=0.7.0->evaluate) (4.12.0)\n",
            "Requirement already satisfied: charset-normalizer<4,>=2 in /usr/local/lib/python3.10/dist-packages (from requests>=2.19.0->evaluate) (3.3.2)\n",
            "Requirement already satisfied: idna<4,>=2.5 in /usr/local/lib/python3.10/dist-packages (from requests>=2.19.0->evaluate) (3.7)\n",
            "Requirement already satisfied: urllib3<3,>=1.21.1 in /usr/local/lib/python3.10/dist-packages (from requests>=2.19.0->evaluate) (2.0.7)\n",
            "Requirement already satisfied: certifi>=2017.4.17 in /usr/local/lib/python3.10/dist-packages (from requests>=2.19.0->evaluate) (2024.2.2)\n",
            "Requirement already satisfied: python-dateutil>=2.8.2 in /usr/local/lib/python3.10/dist-packages (from pandas->evaluate) (2.8.2)\n",
            "Requirement already satisfied: pytz>=2020.1 in /usr/local/lib/python3.10/dist-packages (from pandas->evaluate) (2023.4)\n",
            "Requirement already satisfied: tzdata>=2022.1 in /usr/local/lib/python3.10/dist-packages (from pandas->evaluate) (2024.1)\n",
            "Requirement already satisfied: aiosignal>=1.1.2 in /usr/local/lib/python3.10/dist-packages (from aiohttp->datasets>=2.0.0->evaluate) (1.3.1)\n",
            "Requirement already satisfied: attrs>=17.3.0 in /usr/local/lib/python3.10/dist-packages (from aiohttp->datasets>=2.0.0->evaluate) (23.2.0)\n",
            "Requirement already satisfied: frozenlist>=1.1.1 in /usr/local/lib/python3.10/dist-packages (from aiohttp->datasets>=2.0.0->evaluate) (1.4.1)\n",
            "Requirement already satisfied: multidict<7.0,>=4.5 in /usr/local/lib/python3.10/dist-packages (from aiohttp->datasets>=2.0.0->evaluate) (6.0.5)\n",
            "Requirement already satisfied: yarl<2.0,>=1.0 in /usr/local/lib/python3.10/dist-packages (from aiohttp->datasets>=2.0.0->evaluate) (1.9.4)\n",
            "Requirement already satisfied: async-timeout<5.0,>=4.0 in /usr/local/lib/python3.10/dist-packages (from aiohttp->datasets>=2.0.0->evaluate) (4.0.3)\n",
            "Requirement already satisfied: six>=1.5 in /usr/local/lib/python3.10/dist-packages (from python-dateutil>=2.8.2->pandas->evaluate) (1.16.0)\n",
            "Installing collected packages: evaluate\n",
            "Successfully installed evaluate-0.4.2\n"
          ]
        }
      ]
    },
    {
      "cell_type": "code",
      "source": [
        "from evaluate import load\n",
        "wer = load(\"wer\")\n",
        "wer_score = wer.compute(predictions=preds, references=refs)\n",
        "print(f\"WER score: {wer_score}\")"
      ],
      "metadata": {
        "colab": {
          "base_uri": "https://localhost:8080/"
        },
        "id": "szCpt-JwlK7P",
        "outputId": "640d84d1-80d9-4b7a-a219-c4a0eb737cc5"
      },
      "execution_count": 44,
      "outputs": [
        {
          "output_type": "stream",
          "name": "stdout",
          "text": [
            "WER score: 0.43286573146292584\n"
          ]
        }
      ]
    },
    {
      "cell_type": "code",
      "source": [
        "print(refs)\n",
        "print(preds)"
      ],
      "metadata": {
        "colab": {
          "base_uri": "https://localhost:8080/"
        },
        "id": "WTgoMBODmmo4",
        "outputId": "99366dca-3848-4088-ab09-e2bb0f612eb2"
      },
      "execution_count": 35,
      "outputs": [
        {
          "output_type": "stream",
          "name": "stdout",
          "text": [
            "['I wish to know all about my grandfather. Well he is nearly 93 years old with a long beard.', 'In the wenter when it snows, he slowly takes a short walk in the open air each day.', '100, 99, 98, 97, 96, 95, 94, 93, 92, 91, 90, 89, 88, 87, 86, 85, 84, 83, 82, 81, 80.', 'Dog eats bones. Mike likes bikes. Elsa wants a book. Adam plays basketball.', 'The students wear the uniform and go to school daily.', \"I don't have time to go with you. I am playing cricket.\", 'The nature is very attractive and full of my favorite green color.', 'Nature gives us fruits, vegetables, and grains to eat.', \"I don't have time to go with you. I am playing cricket.\", 'The nature is very attractive and full of my favorite green color.', 'I do not have time to go with you. I am playing cricket.', 'The nature is very attractive and full of my favorite green color.', \"Nature is as caring as our mother. It's always sweet like her.\", 'You wish to know all about my grandfather? Well he is nearly 93 years old with a long beard.', 'In the winter when it snows, he slowly takes a short walk in the open air each day.', 'The student wears the uniform and goes to school daily.', 'I love my family and in the future I want to make my family proud.', '100, 99, 98, 97, 96, 95, 94, 93, 92, 91, 90, 89, 88, 87, 86, 85, 84, 83, 82, 81, 80.', 'Dog eats bones. Mike likes bikes. Elsa wants a book. Adam plays basketball.', 'Nature gives us fruits, vegetables, and grains to eat.', 'You wish to know all about my grandfather? Well he is nearly 93 years old with a long beard.', '100, 99, 98, 97, 96, 95, 94, 93, 92, 91, 90, 89, 88, 87, 86, 85, 84, 83, 82, 81, 80.', 'Dogs eat bones. Mike likes bikes. Elsa wants a book. Adam plays basketball.', 'Nature gives us fruits, vegetables, and grains to eat.', \"Nature is as caring as our mother. It's always sweet like her.\", 'In the winter when it snows, he slowly takes a short walk in the open air each day.', 'The students wear the uniform and go to school daily.', 'I love my family and in the future I want to make my family proud.', 'The nature is very attractive and full of my favorite green color.', \"I don't have time to go with you. I am playing cricket.\", 'You wish to know all about my grandfather? Well he is nearly 93 years old with a long beard.', 'In the winter when it snows, he slowly takes a short walk in the open air each day.', '100, 99, 98, 97, 96, 95, 94, 93, 92, 91, 90, 89, 88, 87, 86, 85, 84, 83, 82, 81, 80.', 'Dogs eat bones. Mike likes bikes. Elsa wants a book. Adam plays basketball.', 'The students wear the uniform and go to the school daily.', \"I don't have time to go with you. I am playing cricket.\", 'The nature is very attractive and full of my favorite green color.', 'Nature gives us fruits, vegetables, and grains to eat.', 'I love my family and in the future I want to make my family proud.', \"Nature is as caring as our mother. It's always sweet like her.\", 'The nature is very attractive and full of my favorite green color.', 'Nature gives us fruits, vegetables, and grains to eat.', 'The students wear the uniform and go to the school daily.', 'You wish to know all about my grandfather? Well he is nearly 93 years old yet he still thinks as swiftly as ever. He dresses himself in an old black fur coat, usually several buttons missing. A long beard clings to his chin, giving those who observe him a pronounced feeling of the utmost respect. When he speaks his voice is just a bit cracked and quivers a bit.', 'Twice each day he plays skillfully and with jest upon a small organ, except in the winter when the snow or ice prevents. He slowly takes a short walk in the open air each day. We have often urged him to walk more and smoke less, but he always answers \"Banana oil.\" Grandfather likes to be modern in his language.', '100, 99, 98, 97, 96, 95, 94, 93, 92, 91, 90, 89, 88, 87, 86, 85, 84, 83, 82, 81, 80.', 'Dogs eat bones. Mike likes bikes. Elsa wants a book. Adam plays basketball.', \"I don't have time to go with you. I am playing cricket.\", 'I love my family and in the future I want to make my family proud.', \"Nature is as caring as our mother. It's always sweet like her.\"]\n",
            "[' I wish to know all about my grandfather, well he is nearly 93 years old with a long beard.', \" In the winter season, VnB, when it's lost, he slowly takes a short walk in the open A each day.\", ' 99, 98, 97, 96, 95, 94, 93, 92, 91, 90, 89, 88, 87, 86, 85, 84, 83, 82, 81, 80, 80, 80, 80, 80, 80, 80, 80, 80, 80, 80, 80, 80, 80, 80, 80, 80, 80, 80, 80, 80, 80, 80, 80, 80, 80, 80, 80, 80, 80, 80, 80, 80, 80, 80, 80, 80, 80, 80, 80, 80, 80, 80, 80, 80, 80, 80, 80, 80, 80, 80, 80, 80, 80, 80, 80, 80, 80, 80, 80, 80, 80, 80, 80, 80, 80, 80, 80, 80, 80, 80, 80, 80, 80, 80, 80, 80, 80, 80, 80, 80, 80, 80, 80, 80, 80, 80, 80, 80, 80, 80, 80, 80, 80, 80, 80, 80, 80, 80, 80, 80, 80, 80, 80, 80, 80, 80, 80, 80,', ' The dog eats bones, mike likes bites, Elsa wants a bone, Adam plays basketball.', ' that students wear the uniform and goes to school daily', \" I don't have time to go with you. I'm playing cricket.\", ' The nature is very attractive and full of my favourite green colour.', ' Nature gives us fruits, vegetables and grains to eat.', \" I don't have time to go with you. I'm playing cricket.\", ' The nature is very attractive and full of my favorite green color.', \" I don't have, I do not have time to work with you. I am playing it yet.\", ' The nature is very attractive and full of my favorite dream color.', \" Nature is just giving us our mother. It's always sweet like her.\", ' You wish to know all about my grandfather when he is nearly 93 years old with a long beard.', ' When it slows, he slowly takes a short walk to now open A of each day.', ' The student was even fun and goes to school', ' I love my family and in the future I want to make my family proud.', ' 100, 99, 98, 97, 96, 95, 94, 93, 92, 91, 90, 89, 88, 87, 86, 85, 84, 83, 82, 81, 80,', ' Dog eats bone, my place bike, Iissa want a wooden other place market world.', ' Nature gives us fruits, vegetables and grains to eat.', ' You wish to know all about my grandfather well he is nearly 93 years old with their long period.', ' $199.99,000,000,000,000,000,000,000,000,000,000,000,000,000,000,000,000,000,000,000,000,000,000,000,000,000,000,000,000,000,000,000,000,000,000,000,000,000,000,000,000,000,000,000,000,000,000,000,000,000,000,000,000,000,000,000,000,000,000,000,000,000,000,000,000,000,000,000,000,000,000,000,000,000,000,000,000,000,000,000,000,000,000,000,000,000,000,000,000,000,000,000,000,000,000,000,000,000,000,000,000,000,000,000,000,000,000,000,000,000,000,000,000,000,000,000,000,000,000,000,000,000,000,000,000,000,000', \" Dogs eat bones, my clients, bikes, Elsa, what's a book, Adam, place basketball.\", ' Nature gives us fruits, vegetables and grains to eat.', \" Major is as caring as our mother. It's always sweet like her.\", ' In the winter, when it snows, he slowly takes a short walk in the open age day.', ' The students wear the uniform and goes to school diving.', ' I love my family and in the future I want to make my family proud.', ' The nature is very attractive and full of my favorite green colour.', \" I don't have time to go with you. I am playing cricket.\", ' You wish to know all about my grandfather while he is nearly 93 years old with their long beard.', ' In the winter when he snows, his slowly takes a short walk in the open air each day.', ' 198-97, 9-7-96, 95, 94, 93, 92, 91, 98, 88, 88, 87, 86, 85, 84, 83, 82, 81, 88.', \" Docks eat bones, mica likes bikes, etc. It's a bunch of book. Adam plays basketball.\", ' The students where the uniform undergoes to the school daily.', \" I don't have time to go with you. I am playing cricket.\", ' The nature is very attractive and full of my favorite green color.', ' Nature gives us fruits, vegetables and grains to eat.', ' I love my family and in the future I want to make my family proud.', \" Mechari is as a getting as our mother. It's always sweet like her.\", ' The nature is very attractive and full of my favorite drink colour.', ' Nature gives us fruits, vegetables and grains to eat.', ' The students wear the uniform and goes to the school dialy.', ' You wish to know all about my grandfather. Well, he is nearly 93 years old, yet he still thinks as wealthy as ever he dresses himself till old Black Rock court usually serve as a button missing along red clings to his chin, giving choose who observed him a pronounced feeling of the utmost respect when And he speaks, when he speaks, why is he a test bit tracker in whereas a bit?', ' Twice, each day he plays skillfully and with just upon a small organ except in the winter when the snow or ice prevents, he slowly takes a short walk in the open gate. Each day we have often a gentle him to walk more and smoke less but he always answers banana oil, grandfather like to be modern in his language.', ' 98, 97, 96, 95, 94, 93, 92, 91, 90, 89, 88, 87, 86, 85, 84, 83, 82, 81, 82, 82, 82, 82, 82, 82, 82, 82, 82, 82, 82, 82, 82, 82, 82, 82, 82, 82, 82, 82, 82, 82, 82, 82, 82, 82, 82, 82, 82, 82, 82, 82, 82, 82, 82, 82, 82, 82, 82, 82, 82, 82, 82, 82, 82, 82, 82, 82, 82, 82, 82, 82, 82, 82, 82, 82, 82, 82, 82, 82, 82, 82, 82, 82, 82, 82, 82, 82, 82, 82, 82, 82, 82, 82, 82, 82, 82, 82, 82, 82, 82, 82, 82, 82, 82, 82, 82, 82, 82, 82, 82, 82, 82, 82, 82, 82, 82, 82, 82, 82, 82, 82, 82, 82, 82, 82, 82, 82, 82, 82,', \" Docks his bones, mike like bikes, that's how want say book, Adam plays basketball.\", \" I don't have time to go with you. I'm playing.\", ' I love my family and in the future I want to make my family proud.', \" Nature is as killing as our mother. It's always sweet like her.\"]\n"
          ]
        }
      ]
    }
  ]
}